{
 "cells": [
  {
   "cell_type": "markdown",
   "id": "a98c2b75",
   "metadata": {},
   "source": [
    "# Notebook para testes\n",
    "\n",
    "1. importar functions e database\n",
    "2. Inicializar database (cria dados de teste)\n",
    "3. chamar função implementada\n",
    "4. Para ajustes nas funções, reinicie o notebook"
   ]
  },
  {
   "cell_type": "code",
   "execution_count": null,
   "id": "40680c6b",
   "metadata": {},
   "outputs": [],
   "source": [
    "import database, functions\n",
    "\n",
    "\n",
    "db = database.Database('database.json')"
   ]
  },
  {
   "cell_type": "code",
   "execution_count": 5,
   "id": "4e63b40a",
   "metadata": {},
   "outputs": [],
   "source": [
    "database.buscar(1, db.data)\n"
   ]
  }
 ],
 "metadata": {
  "kernelspec": {
   "display_name": "Python 3",
   "language": "python",
   "name": "python3"
  },
  "language_info": {
   "codemirror_mode": {
    "name": "ipython",
    "version": 3
   },
   "file_extension": ".py",
   "mimetype": "text/x-python",
   "name": "python",
   "nbconvert_exporter": "python",
   "pygments_lexer": "ipython3",
   "version": "3.10.12"
  }
 },
 "nbformat": 4,
 "nbformat_minor": 5
}
